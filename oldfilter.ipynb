{
 "cells": [
  {
   "cell_type": "markdown",
   "metadata": {},
   "source": [
    "# Project Mobile robotics\n",
    "## filtering"
   ]
  },
  {
   "cell_type": "markdown",
   "metadata": {},
   "source": [
    "what the fuck do we want?\n",
    "Well a filter means having an estimated position at all time. And if we move we estimate where it is now, and merge this belief with what we see on the camera\n",
    "\n",
    "And then we can always estimate where we are even if the camera is not on its best behavior\n"
   ]
  },
  {
   "cell_type": "markdown",
   "metadata": {},
   "source": [
    "To have the position of robot we need x and y coordinates and orientation \n",
    "- sensing and performing a measurement update \n",
    "- moving and performing a motion update"
   ]
  },
  {
   "cell_type": "code",
   "execution_count": 2,
   "metadata": {},
   "outputs": [
    {
     "name": "stdout",
     "output_type": "stream",
     "text": [
      "Collecting filterpy\n",
      "  Downloading filterpy-1.4.5.zip (177 kB)\n",
      "\u001b[2K     \u001b[90m━━━━━━━━━━━━━━━━━━━━━━━━━━━━━━━━━━━━━━━\u001b[0m \u001b[32m178.0/178.0 kB\u001b[0m \u001b[31m2.0 MB/s\u001b[0m eta \u001b[36m0:00:00\u001b[0ma \u001b[36m0:00:01\u001b[0m\n",
      "\u001b[?25h  Preparing metadata (setup.py) ... \u001b[?25ldone\n",
      "\u001b[?25hRequirement already satisfied: numpy in /Users/Julie/opt/anaconda3/envs/project1-grading/lib/python3.9/site-packages (from filterpy) (1.23.1)\n",
      "Requirement already satisfied: scipy in /Users/Julie/opt/anaconda3/envs/project1-grading/lib/python3.9/site-packages (from filterpy) (1.10.0)\n",
      "Requirement already satisfied: matplotlib in /Users/Julie/opt/anaconda3/envs/project1-grading/lib/python3.9/site-packages (from filterpy) (3.5.2)\n",
      "Requirement already satisfied: cycler>=0.10 in /Users/Julie/opt/anaconda3/envs/project1-grading/lib/python3.9/site-packages (from matplotlib->filterpy) (0.11.0)\n",
      "Requirement already satisfied: fonttools>=4.22.0 in /Users/Julie/opt/anaconda3/envs/project1-grading/lib/python3.9/site-packages (from matplotlib->filterpy) (4.25.0)\n",
      "Requirement already satisfied: kiwisolver>=1.0.1 in /Users/Julie/opt/anaconda3/envs/project1-grading/lib/python3.9/site-packages (from matplotlib->filterpy) (1.4.4)\n",
      "Requirement already satisfied: packaging>=20.0 in /Users/Julie/opt/anaconda3/envs/project1-grading/lib/python3.9/site-packages (from matplotlib->filterpy) (23.1)\n",
      "Requirement already satisfied: pillow>=6.2.0 in /Users/Julie/opt/anaconda3/envs/project1-grading/lib/python3.9/site-packages (from matplotlib->filterpy) (10.0.1)\n",
      "Requirement already satisfied: pyparsing>=2.2.1 in /Users/Julie/opt/anaconda3/envs/project1-grading/lib/python3.9/site-packages (from matplotlib->filterpy) (3.0.9)\n",
      "Requirement already satisfied: python-dateutil>=2.7 in /Users/Julie/opt/anaconda3/envs/project1-grading/lib/python3.9/site-packages (from matplotlib->filterpy) (2.8.2)\n",
      "Requirement already satisfied: six>=1.5 in /Users/Julie/opt/anaconda3/envs/project1-grading/lib/python3.9/site-packages (from python-dateutil>=2.7->matplotlib->filterpy) (1.16.0)\n",
      "Building wheels for collected packages: filterpy\n",
      "  Building wheel for filterpy (setup.py) ... \u001b[?25ldone\n",
      "\u001b[?25h  Created wheel for filterpy: filename=filterpy-1.4.5-py3-none-any.whl size=110459 sha256=d392bffcd6af1e3c5b48b013843495b364de7381ac638cc13d77c4232a10a846\n",
      "  Stored in directory: /Users/Julie/Library/Caches/pip/wheels/53/e6/de/a09ea01e923aaf88b9f8c7c44329e857b2c1a31901167e55e6\n",
      "Successfully built filterpy\n",
      "Installing collected packages: filterpy\n",
      "Successfully installed filterpy-1.4.5\n"
     ]
    }
   ],
   "source": [
    "!pip install filterpy"
   ]
  },
  {
   "cell_type": "code",
   "execution_count": 3,
   "metadata": {},
   "outputs": [],
   "source": [
    "import numpy as np\n",
    "from filterpy.kalman import KalmanFilter\n",
    "\n",
    "T_s = 1 # period en secondes selon laquelle on prend les mesures\n",
    "\n",
    "# measurements i need from paul !! \n",
    "inital_x = 0\n",
    "initial_y = 0 \n",
    "\n",
    "measurement_noise_var = 1\n",
    "model_noise_var = 1"
   ]
  },
  {
   "cell_type": "markdown",
   "metadata": {},
   "source": [
    "# Kalman filter using module (well this was linear so fuck)\n",
    "- x - state: x, y, vx, vy (position and speed)\n",
    "- z - measurements (z): x, y, o (position and orientation)\n",
    "- P - covariance matrix: is updated to show the uncertainties of each states (describe how much each pair of state variables is correlated and how much uncertainty there is in the estimation of each individual state variable)\n",
    "- F - state transition: dont know how to do it\n",
    "- H- measurement: Identity as we measure x,y,o\n",
    "- R- noise, uncertainty of measurements\n",
    "- Q- noise, uncertainty of my model"
   ]
  },
  {
   "cell_type": "code",
   "execution_count": null,
   "metadata": {},
   "outputs": [],
   "source": [
    "def create_kalman(initial_x, initial_y, initial_o, measurement_noise_var, model_noise_var):\n",
    "    # create the filter\n",
    "    dim_x = 3\n",
    "    dim_z = 3\n",
    "    kf = KalmanFilter(dim_x=dim_x, dim_z=dim_z)  # 4 states (x, y, o), 3 measurements (x, y, o)\n",
    "\n",
    "    kf.x = np.array([inital_x, initial_y, initial_o]) # assuming we start when its stopped\n",
    "    kf.P = np.eye(dim_x) # use identity for now\n",
    "\n",
    "    # state transition model:\n",
    "    kf.F = None # its a mess\n",
    "\n",
    "    # measurements: \n",
    "    kf.H = np.eye(dim_z)\n",
    "\n",
    "    # noise, can use variance of measurements ? NEED TO WORK MORE ON THIS\n",
    "    kf.R = np.eye(dim_z) * measurement_noise_var\n",
    "    kf.Q = np.eye(dim_x) * model_noise_var\n",
    "    return kf"
   ]
  },
  {
   "cell_type": "code",
   "execution_count": null,
   "metadata": {},
   "outputs": [],
   "source": [
    "def updating_filter(measurement):\n",
    "    # Prediction step\n",
    "    kf.predict()\n",
    "\n",
    "    # Correction step\n",
    "    kf.update(measurement)\n",
    "\n",
    "    # Updated position estimate\n",
    "    estimated_position = kf.x\n",
    "\n",
    "    return estimated_position"
   ]
  },
  {
   "cell_type": "markdown",
   "metadata": {},
   "source": [
    "# extended kalman filter (non linear!)"
   ]
  },
  {
   "cell_type": "code",
   "execution_count": 8,
   "metadata": {},
   "outputs": [
    {
     "name": "stdout",
     "output_type": "stream",
     "text": [
      "Collecting autograd\n",
      "  Obtaining dependency information for autograd from https://files.pythonhosted.org/packages/81/70/d5c7c2a458b8be96495c8b1634c2155beab58cbe864b7a9a5c06c2e52520/autograd-1.6.2-py3-none-any.whl.metadata\n",
      "  Downloading autograd-1.6.2-py3-none-any.whl.metadata (706 bytes)\n",
      "Requirement already satisfied: numpy>=1.12 in /Users/Julie/opt/anaconda3/envs/project1-grading/lib/python3.9/site-packages (from autograd) (1.23.1)\n",
      "Collecting future>=0.15.2 (from autograd)\n",
      "  Downloading future-0.18.3.tar.gz (840 kB)\n",
      "\u001b[2K     \u001b[90m━━━━━━━━━━━━━━━━━━━━━━━━━━━━━━━━━━━━━\u001b[0m \u001b[32m840.9/840.9 kB\u001b[0m \u001b[31m448.8 kB/s\u001b[0m eta \u001b[36m0:00:00\u001b[0m00:01\u001b[0m00:01\u001b[0m\n",
      "\u001b[?25h  Preparing metadata (setup.py) ... \u001b[?25ldone\n",
      "\u001b[?25hDownloading autograd-1.6.2-py3-none-any.whl (49 kB)\n",
      "\u001b[2K   \u001b[90m━━━━━━━━━━━━━━━━━━━━━━━━━━━━━━━━━━━━━━━━\u001b[0m \u001b[32m49.3/49.3 kB\u001b[0m \u001b[31m954.1 kB/s\u001b[0m eta \u001b[36m0:00:00\u001b[0m\u001b[36m0:00:01\u001b[0m\n",
      "\u001b[?25hBuilding wheels for collected packages: future\n",
      "  Building wheel for future (setup.py) ... \u001b[?25ldone\n",
      "\u001b[?25h  Created wheel for future: filename=future-0.18.3-py3-none-any.whl size=492024 sha256=9a905e1c27e6a05fb5fff04a28ce188255ffc1aba51ac3f98af7da44cfe16729\n",
      "  Stored in directory: /Users/Julie/Library/Caches/pip/wheels/bf/5d/6a/2e53874f7ec4e2bede522385439531fafec8fafe005b5c3d1b\n",
      "Successfully built future\n",
      "Installing collected packages: future, autograd\n",
      "Successfully installed autograd-1.6.2 future-0.18.3\n"
     ]
    }
   ],
   "source": [
    "!pip install autograd"
   ]
  },
  {
   "cell_type": "code",
   "execution_count": 9,
   "metadata": {},
   "outputs": [],
   "source": [
    "from filterpy.kalman import ExtendedKalmanFilter\n",
    "from autograd import jacobian\n",
    "\n",
    "import numpy as np\n",
    "\n",
    "def create_EKF(initial_x, inital_y, initial_o, model_noise_var, measu_noise_var):\n",
    "    \"\"\" Initializes the Extended Kalman Filter.\n",
    "    Args: initial position, noise variance for measurement and model\n",
    "    Returns: the Extended Kalman Filter\n",
    "    \"\"\"\n",
    "    # Define the state transition function for your system\n",
    "    def state_transition_function(x, u, dt):\n",
    "        \"\"\" x[0]: x position, x[1]: y position, x[2]: orientation\n",
    "            u[0]: linear velocity, u[1]: angular velocity\n",
    "        \"\"\"\n",
    "        print(\"u\")\n",
    "        print(u[0])\n",
    "        new_x = x[0] + u[0]\n",
    "        x[0] += u[0] * np.cos(x[2]) * dt\n",
    "        x[1] += u[0] * np.sin(x[2]) * dt\n",
    "        x[2] += u[1] * dt\n",
    "    \n",
    "        print(\"inside state tranisition\")\n",
    "        print(x)\n",
    "        return x\n",
    "\n",
    "    # Define the measurement function for your system\n",
    "    def measurement_function(measurements):\n",
    "        \"\"\"Computes the H matrix\n",
    "        Args: measurements (array) containing x, y and o\n",
    "        returns: H matrix, with measurements\n",
    "        \"\"\"\n",
    "        H = np.array([\n",
    "            [measurements[0], 0, 0],\n",
    "            [0, measurements[1], 0],\n",
    "            [0, 0, measurements[2]]\n",
    "        ])\n",
    "        return H\n",
    "\n",
    "    dim_x = 3 # cause we have x,y,orientation as state\n",
    "    dim_z = 3 # cause we have x, y, orientation as measurements\n",
    "    ekf = ExtendedKalmanFilter(dim_x=dim_x, dim_z=dim_z, dim_u=2)\n",
    "\n",
    "    # Set the initial state and covariance\n",
    "    ekf.x = np.array([initial_x, inital_y, initial_o])\n",
    "    ekf.P = np.eye(dim_x) # initial for now\n",
    "\n",
    "    # Set the state transition function and measurement function\n",
    "    ekf.F = state_transition_function\n",
    "    ekf.H = measurement_function\n",
    "\n",
    "    # Set the process noise covariance Q and measurement noise covariance R\n",
    "    ekf.Q = np.eye(dim_x) * model_noise_var\n",
    "    ekf.R = np.eye(dim_z) * measu_noise_var\n",
    "\n",
    "    return ekf"
   ]
  },
  {
   "cell_type": "code",
   "execution_count": 17,
   "metadata": {},
   "outputs": [],
   "source": [
    "def update_ekf(ekf, measurement, speed):\n",
    "    \"\"\" updates the EKF and computes the estimated position at this state\n",
    "    Args: \n",
    "        ekf: the EKF object that has been initialized\n",
    "        measurement: numpy array with x, y, o\n",
    "        speed: numpy array with speed and (linear and angular)\n",
    "\n",
    "    \"\"\"\n",
    "    print(\"pre update\")\n",
    "    print(ekf.x)\n",
    "    #potentialy have to do some work on speed, but i don't know what it looks like yet\n",
    "    # ekf.u = speed\n",
    "    ekf.predict(u=speed)\n",
    "    def jac(x):\n",
    "        return np.eye(len(x))\n",
    "    \n",
    "    # Expected measurement at the predicted state\n",
    "    ekf.update(measurement, jac, Hx=ekf.H)\n",
    "\n",
    "    updated_state = ekf.x\n",
    "    print(\"post update\")\n",
    "    print(ekf.x)\n",
    "    return updated_state"
   ]
  },
  {
   "cell_type": "markdown",
   "metadata": {},
   "source": [
    "## trying to run ? "
   ]
  },
  {
   "cell_type": "code",
   "execution_count": 18,
   "metadata": {},
   "outputs": [
    {
     "name": "stdout",
     "output_type": "stream",
     "text": [
      "i\n",
      "0\n",
      "pre update\n",
      "[0 0 0]\n"
     ]
    },
    {
     "ename": "TypeError",
     "evalue": "unsupported operand type(s) for *: 'function' and 'int'",
     "output_type": "error",
     "traceback": [
      "\u001b[0;31m---------------------------------------------------------------------------\u001b[0m",
      "\u001b[0;31mTypeError\u001b[0m                                 Traceback (most recent call last)",
      "\u001b[1;32m/Users/Julie/Desktop/EPFL/MA3/Robotics/MobileRobotics/filter.ipynb Cellule 14\u001b[0m line \u001b[0;36m<cell line: 3>\u001b[0;34m()\u001b[0m\n\u001b[1;32m      <a href='vscode-notebook-cell:/Users/Julie/Desktop/EPFL/MA3/Robotics/MobileRobotics/filter.ipynb#X22sZmlsZQ%3D%3D?line=3'>4</a>\u001b[0m \u001b[39mprint\u001b[39m(\u001b[39m\"\u001b[39m\u001b[39mi\u001b[39m\u001b[39m\"\u001b[39m)\n\u001b[1;32m      <a href='vscode-notebook-cell:/Users/Julie/Desktop/EPFL/MA3/Robotics/MobileRobotics/filter.ipynb#X22sZmlsZQ%3D%3D?line=4'>5</a>\u001b[0m \u001b[39mprint\u001b[39m(i)\n\u001b[0;32m----> <a href='vscode-notebook-cell:/Users/Julie/Desktop/EPFL/MA3/Robotics/MobileRobotics/filter.ipynb#X22sZmlsZQ%3D%3D?line=5'>6</a>\u001b[0m update_ekf(ekf, np\u001b[39m.\u001b[39;49marray([\u001b[39m0\u001b[39;49m,\u001b[39m0\u001b[39;49m,\u001b[39m0\u001b[39;49m]), np\u001b[39m.\u001b[39;49marray([\u001b[39m0\u001b[39;49m,\u001b[39m0\u001b[39;49m]))\n\u001b[1;32m      <a href='vscode-notebook-cell:/Users/Julie/Desktop/EPFL/MA3/Robotics/MobileRobotics/filter.ipynb#X22sZmlsZQ%3D%3D?line=6'>7</a>\u001b[0m \u001b[39mprint\u001b[39m(ekf\u001b[39m.\u001b[39mx)\n",
      "\u001b[1;32m/Users/Julie/Desktop/EPFL/MA3/Robotics/MobileRobotics/filter.ipynb Cellule 14\u001b[0m line \u001b[0;36mupdate_ekf\u001b[0;34m(ekf, measurement, speed)\u001b[0m\n\u001b[1;32m     <a href='vscode-notebook-cell:/Users/Julie/Desktop/EPFL/MA3/Robotics/MobileRobotics/filter.ipynb#X22sZmlsZQ%3D%3D?line=9'>10</a>\u001b[0m \u001b[39mprint\u001b[39m(ekf\u001b[39m.\u001b[39mx)\n\u001b[1;32m     <a href='vscode-notebook-cell:/Users/Julie/Desktop/EPFL/MA3/Robotics/MobileRobotics/filter.ipynb#X22sZmlsZQ%3D%3D?line=10'>11</a>\u001b[0m \u001b[39m#potentialy have to do some work on speed, but i don't know what it looks like yet\u001b[39;00m\n\u001b[1;32m     <a href='vscode-notebook-cell:/Users/Julie/Desktop/EPFL/MA3/Robotics/MobileRobotics/filter.ipynb#X22sZmlsZQ%3D%3D?line=11'>12</a>\u001b[0m \u001b[39m# ekf.u = speed\u001b[39;00m\n\u001b[0;32m---> <a href='vscode-notebook-cell:/Users/Julie/Desktop/EPFL/MA3/Robotics/MobileRobotics/filter.ipynb#X22sZmlsZQ%3D%3D?line=12'>13</a>\u001b[0m ekf\u001b[39m.\u001b[39;49mpredict_x(u\u001b[39m=\u001b[39;49mspeed)\n\u001b[1;32m     <a href='vscode-notebook-cell:/Users/Julie/Desktop/EPFL/MA3/Robotics/MobileRobotics/filter.ipynb#X22sZmlsZQ%3D%3D?line=13'>14</a>\u001b[0m \u001b[39mdef\u001b[39;00m \u001b[39mjac\u001b[39m(x):\n\u001b[1;32m     <a href='vscode-notebook-cell:/Users/Julie/Desktop/EPFL/MA3/Robotics/MobileRobotics/filter.ipynb#X22sZmlsZQ%3D%3D?line=14'>15</a>\u001b[0m     \u001b[39mreturn\u001b[39;00m np\u001b[39m.\u001b[39meye(\u001b[39mlen\u001b[39m(x))\n",
      "File \u001b[0;32m~/opt/anaconda3/envs/project1-grading/lib/python3.9/site-packages/filterpy/kalman/EKF.py:350\u001b[0m, in \u001b[0;36mExtendedKalmanFilter.predict_x\u001b[0;34m(self, u)\u001b[0m\n\u001b[1;32m    343\u001b[0m \u001b[39mdef\u001b[39;00m \u001b[39mpredict_x\u001b[39m(\u001b[39mself\u001b[39m, u\u001b[39m=\u001b[39m\u001b[39m0\u001b[39m):\n\u001b[1;32m    344\u001b[0m     \u001b[39m\"\"\"\u001b[39;00m\n\u001b[1;32m    345\u001b[0m \u001b[39m    Predicts the next state of X. If you need to\u001b[39;00m\n\u001b[1;32m    346\u001b[0m \u001b[39m    compute the next state yourself, override this function. You would\u001b[39;00m\n\u001b[1;32m    347\u001b[0m \u001b[39m    need to do this, for example, if the usual Taylor expansion to\u001b[39;00m\n\u001b[1;32m    348\u001b[0m \u001b[39m    generate F is not providing accurate results for you.\u001b[39;00m\n\u001b[1;32m    349\u001b[0m \u001b[39m    \"\"\"\u001b[39;00m\n\u001b[0;32m--> 350\u001b[0m     \u001b[39mself\u001b[39m\u001b[39m.\u001b[39mx \u001b[39m=\u001b[39m dot(\u001b[39mself\u001b[39;49m\u001b[39m.\u001b[39;49mF, \u001b[39mself\u001b[39;49m\u001b[39m.\u001b[39;49mx) \u001b[39m+\u001b[39m dot(\u001b[39mself\u001b[39m\u001b[39m.\u001b[39mB, u)\n",
      "File \u001b[0;32m<__array_function__ internals>:180\u001b[0m, in \u001b[0;36mdot\u001b[0;34m(*args, **kwargs)\u001b[0m\n",
      "\u001b[0;31mTypeError\u001b[0m: unsupported operand type(s) for *: 'function' and 'int'"
     ]
    }
   ],
   "source": [
    "ekf= create_EKF(0,0,0,1,1)\n",
    "\n",
    "for i in range(2):\n",
    "    print(\"i\")\n",
    "    print(i)\n",
    "    update_ekf(ekf, np.array([0,0,0]), np.array([0,0]))\n",
    "    print(ekf.x)\n"
   ]
  },
  {
   "cell_type": "code",
   "execution_count": 30,
   "metadata": {},
   "outputs": [
    {
     "name": "stdout",
     "output_type": "stream",
     "text": [
      "[  0   0 180]\n",
      "estimated position after 1 \n",
      "\n",
      "[[  0.       0.6875 303.75  ]\n",
      " [  0.       0.6875 303.75  ]\n",
      " [  0.       0.6875 180.    ]]\n",
      "estimated position after 2 \n",
      "\n",
      "[[array([   0.        ,   -0.44940476, -198.55519481])\n",
      "  array([1.34117965, 1.34117965, 1.34117965])\n",
      "  array([362.58116883, 362.58116883, 362.58116883])]\n",
      " [array([0., 0., 0.])\n",
      "  array([   1.34117965,    0.89177489, -197.21401515])\n",
      "  array([362.58116883, 362.58116883, 362.58116883])]\n",
      " [array([0., 0., 0.]) array([1.34117965, 1.34117965, 1.34117965])\n",
      "  array([238.83116883, 238.38176407, 121.16883117])]]\n"
     ]
    },
    {
     "name": "stderr",
     "output_type": "stream",
     "text": [
      "/var/folders/_j/j0g7xy7j45sb22pt5plmfvsh0000gn/T/ipykernel_23921/4273059487.py:29: VisibleDeprecationWarning: Creating an ndarray from ragged nested sequences (which is a list-or-tuple of lists-or-tuples-or ndarrays with different lengths or shapes) is deprecated. If you meant to do this, you must specify 'dtype=object' when creating the ndarray.\n",
      "  H = np.array([\n"
     ]
    }
   ],
   "source": [
    "initial_x = 0\n",
    "initial_y = 0\n",
    "initial_o = 180\n",
    "\n",
    "model_noise_var = 1.2\n",
    "measu_noise_var = 1\n",
    "ekf = create_EKF(initial_x, initial_y, initial_o, model_noise_var, measu_noise_var)\n",
    "\n",
    "measurements = np.array([\n",
    "    [0,1,180],\n",
    "    [0,1,90]\n",
    "])\n",
    "\n",
    "us = np.array([\n",
    "    [1, 0],\n",
    "    [0, 90]\n",
    "])\n",
    "\n",
    "print(\"estimated position after 1 \\n\")\n",
    "print(update_ekf(ekf, measurements[0], np.array([1,0])))\n",
    "print(\"estimated position after 2 \\n\")\n",
    "print(update_ekf(ekf, measurements[1], np.array([0, 90])))"
   ]
  },
  {
   "cell_type": "code",
   "execution_count": 48,
   "metadata": {},
   "outputs": [
    {
     "name": "stdout",
     "output_type": "stream",
     "text": [
      "State Estimate Before EKF=[1.01  0.01  0.003]\n",
      "Observation=[1 0 0]\n",
      "State Estimate After EKF=[ 0.968 -0.032 -0.02 ]\n",
      "State Estimate Before EKF=[ 0.978 -0.022 89.983]\n",
      "Observation=[ 1  0 90]\n",
      "State Estimate After EKF=[ 0.949 -0.051 89.969]\n"
     ]
    }
   ],
   "source": [
    "initial_pos = np.array([0,0,0])\n",
    "initial_speed = np.array([0,0])\n",
    "measurements = np.array([\n",
    "    [1,0,0],\n",
    "    [1,0,90]\n",
    "])\n",
    "\n",
    "us = np.array([\n",
    "    [1, 0],\n",
    "    [0, 90]\n",
    "])\n",
    "ekf = EKF(1, initial_pos, initial_speed)\n",
    "ekf.filter(measurements[0], us[0])\n",
    "ekf.filter(measurements[1], us[1])\n"
   ]
  },
  {
   "cell_type": "code",
   "execution_count": null,
   "metadata": {},
   "outputs": [],
   "source": []
  }
 ],
 "metadata": {
  "kernelspec": {
   "display_name": "project1-grading",
   "language": "python",
   "name": "python3"
  },
  "language_info": {
   "codemirror_mode": {
    "name": "ipython",
    "version": 3
   },
   "file_extension": ".py",
   "mimetype": "text/x-python",
   "name": "python",
   "nbconvert_exporter": "python",
   "pygments_lexer": "ipython3",
   "version": "3.9.18"
  }
 },
 "nbformat": 4,
 "nbformat_minor": 2
}
