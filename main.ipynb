{
 "cells": [
  {
   "cell_type": "code",
   "execution_count": null,
   "metadata": {},
   "outputs": [],
   "source": [
    "\n"
   ]
  },
  {
   "cell_type": "markdown",
   "metadata": {},
   "source": [
    "# Vision guided navigation with Thymio - Final project\n",
    "Authors: Ahmed Boubakry, Charles De-Fournas, Julie Favre, Paul Richard"
   ]
  },
  {
   "cell_type": "markdown",
   "metadata": {},
   "source": [
    "## 1. Introduction"
   ]
  },
  {
   "cell_type": "markdown",
   "metadata": {},
   "source": [
    "The aim of this project is to have a Thymio robot moving on a plane with global and local naviagation. It should find the best path to the finish goal, while navigating to avoid obstacles on its way. The algorithms and methods we are implementing are:\n",
    "- Computer Vision in order to create the map and retrieve the robot's position\n",
    "- A* algorithm to find the optimal path\n",
    "- Local navigation to avoid physical objects\n",
    "- Filtering with Extended Kalman Filter to estimate accuretly the position\n",
    "- Controller to correct the trajectory after every move"
   ]
  },
  {
   "cell_type": "markdown",
   "metadata": {},
   "source": [
    "## 2. Environment of the project"
   ]
  },
  {
   "cell_type": "markdown",
   "metadata": {},
   "source": [
    "We chose our environment to be a black and white grid: white cells are walkable, black cells are walls. The robot has to find the best path between his starting position, and the goal cell (in blue) \n",
    "une celle de code pour les import ? "
   ]
  },
  {
   "cell_type": "markdown",
   "metadata": {},
   "source": [
    "## 3. Computer vision"
   ]
  },
  {
   "cell_type": "markdown",
   "metadata": {},
   "source": [
    "code pour le cv et tout ce qu'on lit de la cam\n",
    "expliquer tout ce qu'on fait ! \n",
    "ajouter image du décalage des centres\n",
    "ajouter image de cv (ou on voit robot et cadrage)\n",
    "\n",
    "We noticed that when the robot was on the edge of the map, the robot was shifted towards the center of the map, due to the angle with the camera. (see image) To correct this, we added a distortion correction array, that computes the virtual center of the cell from the camera point of vue. \n",
    "\n",
    "\n"
   ]
  },
  {
   "cell_type": "markdown",
   "metadata": {},
   "source": [
    "## 4. Path finding"
   ]
  },
  {
   "cell_type": "markdown",
   "metadata": {},
   "source": [
    "code pour A* move et tout ce qui est path finding related\n",
    "ajouter nos images plt ou on calcule le chemin\n"
   ]
  },
  {
   "cell_type": "markdown",
   "metadata": {},
   "source": [
    "## 5. Local Navigation"
   ]
  },
  {
   "cell_type": "markdown",
   "metadata": {},
   "source": [
    "vous avez compris le drill"
   ]
  },
  {
   "cell_type": "markdown",
   "metadata": {},
   "source": [
    "## 6. Filtering"
   ]
  },
  {
   "cell_type": "markdown",
   "metadata": {},
   "source": [
    "To be sure that we have the correct position of the robot even when the camera fails, we implemented a filtering feature. As our model was not linear, we went with the Extended Kalman Filter. This filter takes as input the position measured by the camera, and the instaneous speed of the robot. Every time it is called, it updates the position based on the previous position, the camera input, and the model of the robot (where it is supposed to be given the speed and previous position). \n",
    "\n",
    "We call the filter after every movement, giving the time period and the speed, thanks to the method `filter_call()` below. \n",
    "\n",
    "The rest of the code is all in ``ExtendedKalmanFilter.py`` "
   ]
  },
  {
   "cell_type": "code",
   "execution_count": null,
   "metadata": {},
   "outputs": [],
   "source": [
    "ekf = EKF(1, initial_pos, initial_speed)"
   ]
  },
  {
   "cell_type": "code",
   "execution_count": null,
   "metadata": {},
   "outputs": [],
   "source": []
  },
  {
   "cell_type": "markdown",
   "metadata": {},
   "source": [
    "## 7. Controller"
   ]
  },
  {
   "cell_type": "markdown",
   "metadata": {},
   "source": [
    "For the motion control, we made use of a controller. After every cell the robot moved to, we check if its in the expected position. If the distance between the center of the robot and the center of the cell it is supposed to be in is too large, we execute the controller in two step. If the distance is good but the orientation of the robot is too different of the expected orientation, we execute the controller in one step. If it is good enough, we continue the path without interfering.\n",
    "The controller in three steps:\n",
    "- rotate the robot in direction of the center of the cell\n",
    "- move the robot towards the center\n",
    "- rotate the robot in the expected orientation to continue the path\n",
    "\n",
    "The controller in one step:\n",
    "- rotate the robot in the expected orientation \n"
   ]
  },
  {
   "cell_type": "markdown",
   "metadata": {},
   "source": [
    "## 8. Project run"
   ]
  },
  {
   "cell_type": "markdown",
   "metadata": {},
   "source": [
    "main loop !\n",
    "blablater sur les choix de synchrone vs asynchrone et quelles methodes on appelle quand\n"
   ]
  },
  {
   "cell_type": "markdown",
   "metadata": {},
   "source": [
    "## 9. Conclusion"
   ]
  },
  {
   "cell_type": "markdown",
   "metadata": {},
   "source": [
    "In conclusion, we managed to implement a moving robot on the grid. The few drawbacks we have are:"
   ]
  },
  {
   "cell_type": "markdown",
   "metadata": {},
   "source": [
    "### 10. Sources"
   ]
  },
  {
   "cell_type": "markdown",
   "metadata": {},
   "source": [
    "ChatGPT to help with debugging\n",
    "\n",
    "filter: https://automaticaddison.com/extended-kalman-filter-ekf-with-python-code-example/\n"
   ]
  },
  {
   "cell_type": "markdown",
   "metadata": {},
   "source": []
  }
 ],
 "metadata": {
  "kernelspec": {
   "display_name": "project1-grading",
   "language": "python",
   "name": "python3"
  },
  "language_info": {
   "codemirror_mode": {
    "name": "ipython",
    "version": 3
   },
   "file_extension": ".py",
   "mimetype": "text/x-python",
   "name": "python",
   "nbconvert_exporter": "python",
   "pygments_lexer": "ipython3",
   "version": "3.9.18"
  }
 },
 "nbformat": 4,
 "nbformat_minor": 2
}
