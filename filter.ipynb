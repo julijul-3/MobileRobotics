{
 "cells": [
  {
   "cell_type": "code",
   "execution_count": 1,
   "metadata": {},
   "outputs": [],
   "source": [
    "import numpy as np\n",
    "from ExtendedKalmanFilter import EKF"
   ]
  },
  {
   "cell_type": "markdown",
   "metadata": {},
   "source": [
    "# Extended Kalman Filter\n",
    "\n",
    "See EKF.py for implementation\n",
    "- create an EKF object\n",
    "- call filter() with the new measured position and the speed to estimate the new position. "
   ]
  },
  {
   "cell_type": "code",
   "execution_count": 3,
   "metadata": {},
   "outputs": [
    {
     "name": "stdout",
     "output_type": "stream",
     "text": [
      "State Estimate Before EKF=[1.01  0.01  0.003]\n",
      "Observation=[0 0 0]\n",
      "zeros\n",
      "State Estimate After EKF=[ 0.815 -0.004 -0.005]\n",
      "(0.8152459016393442, -0.0044262295081967246, -0.00475409836065574)\n",
      "State Estimate Before EKF=[ 0.825  0.006 89.998]\n",
      "Observation=[ 1  0 90]\n",
      "State Estimate After EKF=[ 0.894 -0.044 89.973]\n"
     ]
    },
    {
     "data": {
      "text/plain": [
       "(0.8938983050847458, -0.043954802259887, 89.97318079096046)"
      ]
     },
     "execution_count": 3,
     "metadata": {},
     "output_type": "execute_result"
    }
   ],
   "source": [
    "initial_pos = np.array([0,0,0])\n",
    "initial_speed = np.array([0,0])\n",
    "measurements = np.array([\n",
    "    [0,0,0],\n",
    "    [1,0,90]\n",
    "])\n",
    "\n",
    "speed = np.array([\n",
    "    [1, 0],\n",
    "    [0, 90]\n",
    "])\n",
    "ekf = EKF(1, initial_pos, initial_speed)\n",
    "print(ekf.filter(measurements[0], speed[0]))\n",
    "ekf.filter(measurements[1], speed[1])"
   ]
  },
  {
   "cell_type": "code",
   "execution_count": 5,
   "metadata": {},
   "outputs": [
    {
     "name": "stdout",
     "output_type": "stream",
     "text": [
      "State Estimate Before EKF=[ 0.539  0.866 89.972]\n",
      "Observation=[1 0 0]\n",
      "State Estimate After EKF=[ 0.78  0.29 34.53]\n"
     ]
    }
   ],
   "source": [
    "x,y,o = ekf.filter(measurements[0], us[0])\n",
    "\n"
   ]
  },
  {
   "cell_type": "code",
   "execution_count": 6,
   "metadata": {},
   "outputs": [
    {
     "data": {
      "text/plain": [
       "0.7796926905865056"
      ]
     },
     "execution_count": 6,
     "metadata": {},
     "output_type": "execute_result"
    }
   ],
   "source": [
    "x"
   ]
  },
  {
   "cell_type": "code",
   "execution_count": null,
   "metadata": {},
   "outputs": [],
   "source": []
  }
 ],
 "metadata": {
  "kernelspec": {
   "display_name": "project1-grading",
   "language": "python",
   "name": "python3"
  },
  "language_info": {
   "codemirror_mode": {
    "name": "ipython",
    "version": 3
   },
   "file_extension": ".py",
   "mimetype": "text/x-python",
   "name": "python",
   "nbconvert_exporter": "python",
   "pygments_lexer": "ipython3",
   "version": "3.9.18"
  }
 },
 "nbformat": 4,
 "nbformat_minor": 2
}
