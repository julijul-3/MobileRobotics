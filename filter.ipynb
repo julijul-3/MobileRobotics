{
 "cells": [
  {
   "cell_type": "code",
   "execution_count": 3,
   "metadata": {},
   "outputs": [],
   "source": [
    "import numpy as np\n",
    "from ExtendedKalmanFilter import EKF"
   ]
  },
  {
   "cell_type": "markdown",
   "metadata": {},
   "source": [
    "# Extended Kalman Filter\n",
    "\n",
    "See EKF.py for implementation\n",
    "- create an EKF object\n",
    "- call filter() with the new measured position and the speed to estimate the new position. "
   ]
  },
  {
   "cell_type": "code",
   "execution_count": 4,
   "metadata": {},
   "outputs": [
    {
     "name": "stdout",
     "output_type": "stream",
     "text": [
      "State Estimate Before EKF=[1.01  0.01  0.003]\n",
      "Observation=[1 0 0]\n",
      "State Estimate After EKF=[ 0.96809524 -0.03190476 -0.01952381]\n",
      "State Estimate Before EKF=[ 9.78095238e-01 -2.19047619e-02  8.99834762e+01]\n",
      "Observation=[ 1  0 90]\n",
      "State Estimate After EKF=[ 9.49056604e-01 -5.09433962e-02  8.99693019e+01]\n"
     ]
    }
   ],
   "source": [
    "initial_pos = np.array([0,0,0])\n",
    "initial_speed = np.array([0,0])\n",
    "measurements = np.array([\n",
    "    [1,0,0],\n",
    "    [1,0,90]\n",
    "])\n",
    "\n",
    "us = np.array([\n",
    "    [1, 0],\n",
    "    [0, 90]\n",
    "])\n",
    "ekf = EKF(1, initial_pos, initial_speed)\n",
    "ekf.filter(measurements[0], us[0])\n",
    "ekf.filter(measurements[1], us[1])\n"
   ]
  },
  {
   "cell_type": "code",
   "execution_count": null,
   "metadata": {},
   "outputs": [],
   "source": []
  }
 ],
 "metadata": {
  "kernelspec": {
   "display_name": "project1-grading",
   "language": "python",
   "name": "python3"
  },
  "language_info": {
   "codemirror_mode": {
    "name": "ipython",
    "version": 3
   },
   "file_extension": ".py",
   "mimetype": "text/x-python",
   "name": "python",
   "nbconvert_exporter": "python",
   "pygments_lexer": "ipython3",
   "version": "3.9.18"
  }
 },
 "nbformat": 4,
 "nbformat_minor": 2
}
