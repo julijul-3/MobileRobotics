{
 "cells": [
  {
   "cell_type": "markdown",
   "metadata": {},
   "source": [
    "# Project Mobile robotics\n",
    "## filtering"
   ]
  },
  {
   "cell_type": "markdown",
   "metadata": {},
   "source": [
    "what the fuck do we want?\n",
    "Well a filter means having an estimated position at all time. And if we move we estimate where it is now, and merge this belief with what we see on the camera\n",
    "\n",
    "And then we can always estimate where we are even if the camera is not on its best behavior\n"
   ]
  },
  {
   "cell_type": "markdown",
   "metadata": {},
   "source": [
    "To have the position of robot we need x and y coordinates and orientation \n",
    "- sensing and performing a measurement update \n",
    "- moving and performing a motion update"
   ]
  },
  {
   "cell_type": "code",
   "execution_count": 2,
   "metadata": {},
   "outputs": [
    {
     "name": "stdout",
     "output_type": "stream",
     "text": [
      "Collecting filterpy\n",
      "  Downloading filterpy-1.4.5.zip (177 kB)\n",
      "\u001b[2K     \u001b[90m━━━━━━━━━━━━━━━━━━━━━━━━━━━━━━━━━━━━━━━\u001b[0m \u001b[32m178.0/178.0 kB\u001b[0m \u001b[31m2.0 MB/s\u001b[0m eta \u001b[36m0:00:00\u001b[0ma \u001b[36m0:00:01\u001b[0m\n",
      "\u001b[?25h  Preparing metadata (setup.py) ... \u001b[?25ldone\n",
      "\u001b[?25hRequirement already satisfied: numpy in /Users/Julie/opt/anaconda3/envs/project1-grading/lib/python3.9/site-packages (from filterpy) (1.23.1)\n",
      "Requirement already satisfied: scipy in /Users/Julie/opt/anaconda3/envs/project1-grading/lib/python3.9/site-packages (from filterpy) (1.10.0)\n",
      "Requirement already satisfied: matplotlib in /Users/Julie/opt/anaconda3/envs/project1-grading/lib/python3.9/site-packages (from filterpy) (3.5.2)\n",
      "Requirement already satisfied: cycler>=0.10 in /Users/Julie/opt/anaconda3/envs/project1-grading/lib/python3.9/site-packages (from matplotlib->filterpy) (0.11.0)\n",
      "Requirement already satisfied: fonttools>=4.22.0 in /Users/Julie/opt/anaconda3/envs/project1-grading/lib/python3.9/site-packages (from matplotlib->filterpy) (4.25.0)\n",
      "Requirement already satisfied: kiwisolver>=1.0.1 in /Users/Julie/opt/anaconda3/envs/project1-grading/lib/python3.9/site-packages (from matplotlib->filterpy) (1.4.4)\n",
      "Requirement already satisfied: packaging>=20.0 in /Users/Julie/opt/anaconda3/envs/project1-grading/lib/python3.9/site-packages (from matplotlib->filterpy) (23.1)\n",
      "Requirement already satisfied: pillow>=6.2.0 in /Users/Julie/opt/anaconda3/envs/project1-grading/lib/python3.9/site-packages (from matplotlib->filterpy) (10.0.1)\n",
      "Requirement already satisfied: pyparsing>=2.2.1 in /Users/Julie/opt/anaconda3/envs/project1-grading/lib/python3.9/site-packages (from matplotlib->filterpy) (3.0.9)\n",
      "Requirement already satisfied: python-dateutil>=2.7 in /Users/Julie/opt/anaconda3/envs/project1-grading/lib/python3.9/site-packages (from matplotlib->filterpy) (2.8.2)\n",
      "Requirement already satisfied: six>=1.5 in /Users/Julie/opt/anaconda3/envs/project1-grading/lib/python3.9/site-packages (from python-dateutil>=2.7->matplotlib->filterpy) (1.16.0)\n",
      "Building wheels for collected packages: filterpy\n",
      "  Building wheel for filterpy (setup.py) ... \u001b[?25ldone\n",
      "\u001b[?25h  Created wheel for filterpy: filename=filterpy-1.4.5-py3-none-any.whl size=110459 sha256=d392bffcd6af1e3c5b48b013843495b364de7381ac638cc13d77c4232a10a846\n",
      "  Stored in directory: /Users/Julie/Library/Caches/pip/wheels/53/e6/de/a09ea01e923aaf88b9f8c7c44329e857b2c1a31901167e55e6\n",
      "Successfully built filterpy\n",
      "Installing collected packages: filterpy\n",
      "Successfully installed filterpy-1.4.5\n"
     ]
    }
   ],
   "source": [
    "!pip install filterpy"
   ]
  },
  {
   "cell_type": "code",
   "execution_count": 3,
   "metadata": {},
   "outputs": [],
   "source": [
    "import numpy as np\n",
    "from filterpy.kalman import KalmanFilter\n",
    "\n",
    "T_s = 1 # period en secondes selon laquelle on prend les mesures\n",
    "\n",
    "# measurements i need from paul !! \n",
    "inital_x = 0\n",
    "initial_y = 0 \n",
    "\n",
    "measurement_noise_var = 1\n",
    "model_noise_var = 1"
   ]
  },
  {
   "cell_type": "code",
   "execution_count": null,
   "metadata": {},
   "outputs": [],
   "source": [
    "# chat gpt stuff\n",
    "# Create a Kalman filter\n",
    "kf = KalmanFilter(dim_x=4, dim_z=2)  # 4 states (x, y, vx, vy), 2 measurements (x, y)\n",
    "\n",
    "# Define the initial state and covariance matrix\n",
    "kf.x = np.array([initial_x, initial_y, initial_vx, initial_vy])\n",
    "kf.P *= 1e3  # Initial covariance matrix\n",
    "\n",
    "# Define the state transition matrix (constant velocity model)\n",
    "kf.F = np.array([[1, 0, dt, 0],\n",
    "                 [0, 1, 0, dt],\n",
    "                 [0, 0, 1, 0],\n",
    "                 [0, 0, 0, 1]])\n",
    "\n",
    "# Define the measurement matrix (direct measurement of position)\n",
    "kf.H = np.array([[1, 0, 0, 0],\n",
    "                 [0, 1, 0, 0]])\n",
    "\n",
    "# Set the process noise covariance matrix\n",
    "kf.Q = np.eye(4) * process_noise_variance\n",
    "\n",
    "# Set the measurement noise covariance matrix\n",
    "kf.R = np.eye(2) * measurement_noise_variance\n",
    "\n",
    "# Kalman filter loop\n",
    "for each_measurement in measurements:\n",
    "    # Prediction step\n",
    "    kf.predict()\n",
    "\n",
    "    # Correction step\n",
    "    kf.update(each_measurement)\n",
    "\n",
    "    # Updated position estimate\n",
    "    estimated_position = kf.x[:2]\n",
    "\n",
    "    # Use the estimated_position for further processing or display\n",
    "\n",
    "# Final estimated position\n",
    "final_estimated_position = kf.x[:2]"
   ]
  },
  {
   "cell_type": "markdown",
   "metadata": {},
   "source": [
    "# Kalman filter using module\n",
    "- x - state: x, y, vx, vy (position and speed)\n",
    "- z - measurements (z): x, y, o (position and orientation)\n",
    "- P - covariance matrix: is updated to show the uncertainties of each states (describe how much each pair of state variables is correlated and how much uncertainty there is in the estimation of each individual state variable)\n",
    "- F - state transition: dont know how to do it\n",
    "- H- measurement: Identity as we measure x,y,o\n",
    "- R- noise, uncertainty of measurements\n",
    "- Q- noise, uncertainty of my model"
   ]
  },
  {
   "cell_type": "code",
   "execution_count": null,
   "metadata": {},
   "outputs": [],
   "source": [
    "def create_kalman(initial_x, initial_y, initial_o, measurement_noise_var, model_noise_var):\n",
    "    # create the filter\n",
    "    dim_x = 3\n",
    "    dim_z = 3\n",
    "    kf = KalmanFilter(dim_x=dim_x, dim_z=dim_z)  # 4 states (x, y, o), 3 measurements (x, y, o)\n",
    "\n",
    "    kf.x = np.array([inital_x, initial_y, initial_o]) # assuming we start when its stopped\n",
    "    kf.P = np.eye(dim_x) # use identity for now\n",
    "\n",
    "    # state transition model:\n",
    "    kf.F = None # its a mess\n",
    "\n",
    "    # measurements: \n",
    "    kf.H = np.eye(dim_z)\n",
    "\n",
    "    # noise, can use variance of measurements ? NEED TO WORK MORE ON THIS\n",
    "    kf.R = np.eye(dim_z) * measurement_noise_var\n",
    "    kf.Q = np.eye(dim_x) * model_noise_var\n",
    "    return kf"
   ]
  },
  {
   "cell_type": "code",
   "execution_count": null,
   "metadata": {},
   "outputs": [],
   "source": [
    "def updating_filter(measurement):\n",
    "    # Prediction step\n",
    "    kf.predict()\n",
    "\n",
    "    # Correction step\n",
    "    kf.update(measurement)\n",
    "\n",
    "    # Updated position estimate\n",
    "    estimated_position = kf.x\n",
    "\n",
    "    return estimated_position"
   ]
  },
  {
   "cell_type": "code",
   "execution_count": null,
   "metadata": {},
   "outputs": [],
   "source": [
    "# code du prof\n",
    "# Initialising the remaining constants\n",
    "# units: length [mm], time [s]\n",
    "\n",
    "A = np.array([[1, Ts], [0, 1]])\n",
    "stripe_width = 50\n",
    "Q = np.array([[qp, 0], [0, q_nu]]);\n",
    "speed_conv_factor = 0.3375;\n",
    "transition_thresh = 500\n",
    "\n",
    "def kalman_filter(speed, pos_cam_prev, pos_cam, x_est_prev, P_est_prev,\n",
    "                  HT=None, HNT=None, RT=None, RNT=None):\n",
    "    \"\"\"\n",
    "    Estimates the current state using input sensor data and the previous state\n",
    "    \n",
    "    param speed: measured speed (Thymio units)\n",
    "    param pos_cam_prev: previous value of measured position by camera\n",
    "    param pos_cam: measured position by camera\n",
    "    param x_est_prev: previous state a posteriori estimation\n",
    "    param P_est_prev: previous state a posteriori covariance\n",
    "    \n",
    "    return pos_last_trans: updated if a transition has been detected\n",
    "    return x_est: new a posteriori state estimation\n",
    "    return P_est: new a posteriori state covariance\n",
    "    \"\"\"\n",
    "    \n",
    "    ## Prediciton through the a priori estimate\n",
    "    # estimated mean of the state\n",
    "    x_est_a_priori = np.dot(A, x_est_prev);\n",
    "    \n",
    "    # Estimated covariance of the state\n",
    "    P_est_a_priori = np.dot(A, np.dot(P_est_prev, A.T));\n",
    "    P_est_a_priori = P_est_a_priori + Q if type(Q) != type(None) else P_est_a_priori\n",
    "    \n",
    "    ## Update         \n",
    "    # y, C, and R for a posteriori estimate, depending on transition\n",
    "    if ((pos_cam_prev < transition_thresh)^(pos_cam < transition_thresh)) : #XOR (one or the other but not both)\n",
    "        if (pos_cam>pos_cam_prev):\n",
    "            stripe_width = 44\n",
    "        else:\n",
    "            stripe_width = 4\n",
    "        # transition detected\n",
    "        pos_last_trans = pos_last_trans + stripe_width;\n",
    "        y = np.array([[pos_last_trans],[speed*speed_conv_factor]])\n",
    "        H = np.array([[1, 0],[0, 1]])\n",
    "        R = np.array([[rp, 0],[0, r_nu]])\n",
    "    else:\n",
    "        # no transition, use only the speed\n",
    "        y = speed*speed_conv_factor;\n",
    "        H = np.array([[0, 1]])\n",
    "        R = r_nu;\n",
    "\n",
    "    # innovation / measurement residual\n",
    "    i = y - np.dot(H, x_est_a_priori);\n",
    "    # measurement prediction covariance\n",
    "    S = np.dot(H, np.dot(P_est_a_priori, H.T)) + R;\n",
    "             \n",
    "    # Kalman gain (tells how much the predictions should be corrected based on the measurements)\n",
    "    K = np.dot(P_est_a_priori, np.dot(H.T, np.linalg.inv(S)));\n",
    "    \n",
    "    \n",
    "    # a posteriori estimate\n",
    "    x_est = x_est_a_priori + np.dot(K,i);\n",
    "    P_est = P_est_a_priori - np.dot(K,np.dot(H, P_est_a_priori));\n",
    "     \n",
    "    return pos_last_trans, x_est, P_est"
   ]
  },
  {
   "cell_type": "code",
   "execution_count": null,
   "metadata": {},
   "outputs": [],
   "source": []
  }
 ],
 "metadata": {
  "kernelspec": {
   "display_name": "project1-grading",
   "language": "python",
   "name": "python3"
  },
  "language_info": {
   "codemirror_mode": {
    "name": "ipython",
    "version": 3
   },
   "file_extension": ".py",
   "mimetype": "text/x-python",
   "name": "python",
   "nbconvert_exporter": "python",
   "pygments_lexer": "ipython3",
   "version": "3.9.18"
  }
 },
 "nbformat": 4,
 "nbformat_minor": 2
}
