{
 "cells": [
  {
   "cell_type": "code",
   "execution_count": 10,
   "id": "2e84eecf",
   "metadata": {},
   "outputs": [],
   "source": [
    "from scipy.integrate import odeint\n",
    "import numpy as np\n",
    "import matplotlib.pyplot as plt\n",
    "from ExtendedKalmanFilter import EKF"
   ]
  },
  {
   "cell_type": "code",
   "execution_count": null,
   "id": "2ade31c4",
   "metadata": {},
   "outputs": [],
   "source": []
  },
  {
   "cell_type": "code",
   "execution_count": 11,
   "id": "2d186830",
   "metadata": {},
   "outputs": [
    {
     "name": "stdout",
     "output_type": "stream",
     "text": [
      "State Estimate Before EKF=[1.01  0.01  0.003]\n",
      "Observation=[1 0 0]\n",
      "State Estimate After EKF=[ 0.96809524 -0.03190476 -0.01952381]\n",
      "State Estimate Before EKF=[ 9.78095238e-01 -2.19047619e-02  8.99834762e+01]\n",
      "Observation=[ 1  0 90]\n",
      "State Estimate After EKF=[ 9.49056604e-01 -5.09433962e-02  8.99693019e+01]\n"
     ]
    }
   ],
   "source": [
    "initial_pos = np.array([0,0,0])\n",
    "initial_speed = np.array([0,0])\n",
    "measurements = np.array([\n",
    "    [1,0,0],\n",
    "    [1,0,90]\n",
    "])\n",
    "\n",
    "us = np.array([\n",
    "    [1, 0],\n",
    "    [0, 90]\n",
    "])\n",
    "ekf = EKF(1, initial_pos, initial_speed)\n",
    "ekf.filter(measurements[0], us[0])\n",
    "ekf.filter(measurements[1], us[1])"
   ]
  },
  {
   "cell_type": "markdown",
   "id": "55b80eed",
   "metadata": {},
   "source": [
    "-------------------------------------------------------------PID--------------------------------------------------------------"
   ]
  },
  {
   "cell_type": "code",
   "execution_count": 12,
   "id": "7e986453",
   "metadata": {},
   "outputs": [
    {
     "ename": "NameError",
     "evalue": "name 'timer_period' is not defined",
     "output_type": "error",
     "traceback": [
      "\u001b[0;31m---------------------------------------------------------------------------\u001b[0m",
      "\u001b[0;31mNameError\u001b[0m                                 Traceback (most recent call last)",
      "Cell \u001b[0;32mIn[12], line 7\u001b[0m\n\u001b[1;32m      5\u001b[0m previous_error \u001b[38;5;241m=\u001b[39m \u001b[38;5;241m0.0\u001b[39m\n\u001b[1;32m      6\u001b[0m decalage \u001b[38;5;241m=\u001b[39m \u001b[38;5;241m0\u001b[39m\n\u001b[0;32m----> 7\u001b[0m \u001b[43mtimer_period\u001b[49m[\u001b[38;5;241m0\u001b[39m] \u001b[38;5;241m=\u001b[39m \u001b[38;5;241m100\u001b[39m\n\u001b[1;32m     10\u001b[0m \u001b[38;5;66;03m#Initialisation valeur non importante dans le programme final\u001b[39;00m\n\u001b[1;32m     11\u001b[0m l_speed \u001b[38;5;241m=\u001b[39m \u001b[38;5;241m50\u001b[39m\n",
      "\u001b[0;31mNameError\u001b[0m: name 'timer_period' is not defined"
     ]
    }
   ],
   "source": [
    "# Initialisation variable\n",
    "conversion = 1\n",
    "conversion_pixel_mm = 10\n",
    "integral = 0.0\n",
    "previous_error = 0.0\n",
    "decalage = 0\n",
    "timer_period[0] = 100\n",
    "\n",
    "\n",
    "#Initialisation valeur non importante dans le programme final\n",
    "l_speed = 50\n",
    "r_speed = 50\n",
    "\n",
    "motor_left_target  = 0\n",
    "motor_right_target = 0\n",
    "\n",
    "ekf = EKF(1, initial_pos, initial_speed)\n",
    "\n",
    "def calculate_directional_angle_2D(point1, point2, point3):\n",
    "    vector1 = np.array(point1) - np.array(point2)\n",
    "    vector3 = np.array(point3) - np.array(point2)\n",
    "\n",
    "    # Calculate angles in radians\n",
    "    angle1 = np.arctan2(vector1[1], vector1[0])\n",
    "    angle3 = np.arctan2(vector3[1], vector3[0])\n",
    "\n",
    "    # Calculate directional angle\n",
    "    directional_angle = angle3 - angle1\n",
    "\n",
    "    # Adjust the angle to be between -pi and pi\n",
    "    directional_angle = (directional_angle + np.pi) % (2 * np.pi) - np.pi\n",
    "\n",
    "    return directional_angle\n",
    "\n",
    "# Changer les valeurs global,vitesse motteur,\n",
    "def Reglage():\n",
    "    global l_speed, r_speed, integral, previous_error,conversion,x_f,y_f,x_d,y_d,x_t,y_t\n",
    "\n",
    "    # Déclaration des constantes PID\n",
    "    kp = 1.0  # Terme proportionnel\n",
    "    ki = 0.1  # Terme intégral\n",
    "    kd = 0.01  # Terme dérivé\n",
    "    tolerance = 0.01  # tolerance\n",
    "    \n",
    "    # Calculate the hypotenuse of the vector (point2 - point3)\n",
    "    Hypothenus = np.linalg.norm(np.array([x_d,y_d]) - np.array([x_t,y_t]))\n",
    "\n",
    "    # Calculate the directional angle between point1, point2, and point3\n",
    "    Angle = calculate_directional_angle_2D([x_f,y_f],[x_d,y_d],[x_t,y_t])\n",
    "\n",
    "    # Calculate decalage using sin(Angle) * Hypotenuse\n",
    "    decalage = np.sin(Angle) * Hypothenus  \n",
    "\n",
    "    if abs(decalage) > tolerance:\n",
    "        # Calcul des termes PID\n",
    "        P = kp * decalage\n",
    "        I = ki * integral\n",
    "        D = kd * (decalage - previous_error)\n",
    "\n",
    "        # Calcul de la commande finale\n",
    "        output = P + I + D\n",
    "        \n",
    "        l_speed = 600+(output * conversion)  # Assuming conversion is defined\n",
    "        r_speed = 600-(output*conversion)\n",
    "       \n",
    "        # Mettre à jour les variables pour la prochaine itération\n",
    "        previous_error = decalage\n",
    "        integral += decalage\n",
    "\n",
    "\n",
    "#Boucle principal \n",
    "\n",
    "@onevent\n",
    "def timer0():\n",
    "    global motor_left_target, motor_right_target, l_speed, r_speed  \n",
    "    [x_t,y_t,teta]=ekf.filter(measurements[0], us[0])\n",
    "    ekf.filter(measurements[1], us[1])\n",
    "    Reglage()\n",
    "    # Set motor powers\n",
    "    motor_left_target = round(l_speed) \n",
    "    motor_right_target = round(r_speed) \n",
    "        \n"
   ]
  },
  {
   "cell_type": "code",
   "execution_count": 17,
   "id": "beb161ff",
   "metadata": {
    "scrolled": true
   },
   "outputs": [
    {
     "name": "stdout",
     "output_type": "stream",
     "text": [
      "State Estimate Before EKF=[0.79940078 0.63528358 1.89306629]\n",
      "Observation=[1 0 0]\n",
      "State Estimate After EKF=[0.88011541 0.19939503 0.69836745]\n"
     ]
    },
    {
     "ename": "TypeError",
     "evalue": "cannot unpack non-iterable NoneType object",
     "output_type": "error",
     "traceback": [
      "\u001b[0;31m---------------------------------------------------------------------------\u001b[0m",
      "\u001b[0;31mTypeError\u001b[0m                                 Traceback (most recent call last)",
      "Cell \u001b[0;32mIn[17], line 1\u001b[0m\n\u001b[0;32m----> 1\u001b[0m x,y,teta\u001b[38;5;241m=\u001b[39mekf\u001b[38;5;241m.\u001b[39mfilter(measurements[\u001b[38;5;241m0\u001b[39m], us[\u001b[38;5;241m0\u001b[39m])\n",
      "\u001b[0;31mTypeError\u001b[0m: cannot unpack non-iterable NoneType object"
     ]
    }
   ],
   "source": [
    "x,y,teta=ekf.filter(measurements[0], us[0])"
   ]
  },
  {
   "cell_type": "code",
   "execution_count": 5,
   "id": "9754342f",
   "metadata": {},
   "outputs": [
    {
     "name": "stdout",
     "output_type": "stream",
     "text": [
      "State Estimate Before EKF=[-0.20992708  0.32719976 34.53294203]\n",
      "Observation=[1 0 0]\n",
      "State Estimate After EKF=[ 0.4942384   0.08183813 13.17624931]\n"
     ]
    }
   ],
   "source": [
    "ekf.filter(measurements[0], us[0])"
   ]
  },
  {
   "cell_type": "code",
   "execution_count": null,
   "id": "6bbeb54d",
   "metadata": {},
   "outputs": [],
   "source": []
  }
 ],
 "metadata": {
  "kernelspec": {
   "display_name": "Python 3 (ipykernel)",
   "language": "python",
   "name": "python3"
  },
  "language_info": {
   "codemirror_mode": {
    "name": "ipython",
    "version": 3
   },
   "file_extension": ".py",
   "mimetype": "text/x-python",
   "name": "python",
   "nbconvert_exporter": "python",
   "pygments_lexer": "ipython3",
   "version": "3.9.16"
  }
 },
 "nbformat": 4,
 "nbformat_minor": 5
}
