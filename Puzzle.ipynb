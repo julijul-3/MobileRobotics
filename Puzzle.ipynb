{
 "cells": [
  {
   "cell_type": "code",
   "execution_count": 1,
   "id": "2e84eecf",
   "metadata": {},
   "outputs": [],
   "source": [
    "from scipy.integrate import odeint\n",
    "import numpy as np\n",
    "import matplotlib.pyplot as plt\n",
    "from ExtendedKalmanFilter import EKF"
   ]
  },
  {
   "cell_type": "code",
   "execution_count": 2,
   "id": "2ade31c4",
   "metadata": {},
   "outputs": [
    {
     "name": "stdout",
     "output_type": "stream",
     "text": [
      "Requirement already satisfied: tdmclient in /Users/Julie/opt/anaconda3/envs/project1-grading/lib/python3.9/site-packages (0.1.21)\n",
      "Requirement already satisfied: websockets in /Users/Julie/opt/anaconda3/envs/project1-grading/lib/python3.9/site-packages (from tdmclient) (12.0)\n",
      "Requirement already satisfied: zeroconf in /Users/Julie/opt/anaconda3/envs/project1-grading/lib/python3.9/site-packages (from tdmclient) (0.127.0)\n",
      "Requirement already satisfied: async-timeout>=3.0.0 in /Users/Julie/opt/anaconda3/envs/project1-grading/lib/python3.9/site-packages (from zeroconf->tdmclient) (4.0.3)\n",
      "Requirement already satisfied: ifaddr>=0.1.7 in /Users/Julie/opt/anaconda3/envs/project1-grading/lib/python3.9/site-packages (from zeroconf->tdmclient) (0.2.0)\n"
     ]
    }
   ],
   "source": [
    "!pip install --upgrade tdmclient\n",
    "\n",
    "import tdmclient.notebook\n",
    "await tdmclient.notebook.start()"
   ]
  },
  {
   "cell_type": "code",
   "execution_count": 30,
   "metadata": {},
   "outputs": [],
   "source": [
    "motor_left_target = 200\n",
    "motor_right_target = 0\n"
   ]
  },
  {
   "cell_type": "code",
   "execution_count": 31,
   "metadata": {},
   "outputs": [],
   "source": [
    "motor_left_target = 0\n",
    "motor_right_target = 0"
   ]
  },
  {
   "cell_type": "code",
   "execution_count": 28,
   "metadata": {},
   "outputs": [
    {
     "data": {
      "text/plain": [
       "-117"
      ]
     },
     "execution_count": 28,
     "metadata": {},
     "output_type": "execute_result"
    }
   ],
   "source": [
    "motor_right_speed"
   ]
  },
  {
   "cell_type": "code",
   "execution_count": null,
   "metadata": {},
   "outputs": [],
   "source": [
    "import asyncio\n",
    "\n",
    "async def move_robot_and_get_speed(client):\n",
    "    global node\n",
    "\n",
    "    # Set motor targets\n",
    "    v = {\n",
    "        \"motor.left.target\": [int(100)],\n",
    "        \"motor.right.target\": [int(100)],\n",
    "    }\n",
    "    await node.set_variables(v)\n",
    "\n",
    "    # Wait for the movement to complete\n",
    "    await asyncio.sleep(2)  # Adjust the sleep duration as needed\n",
    "\n",
    "    # Read current speed values\n",
    "    left_speed = await node.get_variable(\"motor.left.speed\")\n",
    "    right_speed = await node.get_variable(\"motor.right.speed\")\n",
    "\n",
    "    print(\"Left Speed:\", left_speed)\n",
    "    print(\"Right Speed:\", right_speed)\n",
    "\n",
    "    # Stop the robot\n",
    "    v_stop = {\n",
    "        \"motor.left.target\": [int(0)],\n",
    "        \"motor.right.target\": [int(0)],\n",
    "    }\n",
    "    await node.set_variables(v_stop)\n",
    "\n",
    "# Call the function within your A_star_move function or main logic\n",
    "await move_robot_and_get_speed(client)"
   ]
  },
  {
   "cell_type": "code",
   "execution_count": 12,
   "metadata": {},
   "outputs": [],
   "source": [
    "x_f = 1\n",
    "y_f = 1\n",
    "x_d = 0\n",
    "y_d = 0"
   ]
  },
  {
   "cell_type": "code",
   "execution_count": 13,
   "id": "2d186830",
   "metadata": {},
   "outputs": [],
   "source": [
    "# provisoire pour filtre\n",
    "measurements = np.array([\n",
    "    [1,1,0],\n",
    "    [1,0,90]\n",
    "])\n",
    "\n",
    "us = np.array([\n",
    "    [1, 0],\n",
    "    [0, 90]\n",
    "])"
   ]
  },
  {
   "cell_type": "markdown",
   "id": "55b80eed",
   "metadata": {},
   "source": [
    "-------------------------------------------------------------PID--------------------------------------------------------------"
   ]
  },
  {
   "cell_type": "code",
   "execution_count": 18,
   "id": "7e986453",
   "metadata": {},
   "outputs": [
    {
     "name": "stdout",
     "output_type": "stream",
     "text": [
      "Error in callback <function _post_run_cell at 0x7fa5f2a35ee0> (for post_run_cell):\n"
     ]
    },
    {
     "ename": "TDMIncompatibleVarSizeError",
     "evalue": "Incompatible size (assignment of a list of size 1 to timer.period[2])",
     "output_type": "error",
     "traceback": [
      "\u001b[0;31m---------------------------------------------------------------------------\u001b[0m",
      "\u001b[0;31mTDMIncompatibleVarSizeError\u001b[0m               Traceback (most recent call last)",
      "File \u001b[0;32m~/opt/anaconda3/envs/project1-grading/lib/python3.9/site-packages/tdmclient/notebook/private.py:14\u001b[0m, in \u001b[0;36m_post_run_cell\u001b[0;34m(_)\u001b[0m\n\u001b[1;32m     13\u001b[0m \u001b[39mdef\u001b[39;00m \u001b[39m_post_run_cell\u001b[39m(_):\n\u001b[0;32m---> 14\u001b[0m     _interactive_console\u001b[39m.\u001b[39;49mpost_run()\n",
      "File \u001b[0;32m~/opt/anaconda3/envs/project1-grading/lib/python3.9/site-packages/tdmclient/repl.py:876\u001b[0m, in \u001b[0;36mTDMConsole.post_run\u001b[0;34m(self)\u001b[0m\n\u001b[1;32m    872\u001b[0m \u001b[39mdef\u001b[39;00m \u001b[39mpost_run\u001b[39m(\u001b[39mself\u001b[39m):\n\u001b[1;32m    873\u001b[0m     \u001b[39m\"\"\"Analyze a complete command after it has been executed,\u001b[39;00m\n\u001b[1;32m    874\u001b[0m \u001b[39m    with or without error.\u001b[39;00m\n\u001b[1;32m    875\u001b[0m \u001b[39m    \"\"\"\u001b[39;00m\n\u001b[0;32m--> 876\u001b[0m     \u001b[39mself\u001b[39;49m\u001b[39m.\u001b[39;49msend_variables(\u001b[39mself\u001b[39;49m\u001b[39m.\u001b[39;49mvar_set)\n\u001b[1;32m    877\u001b[0m     \u001b[39mtry\u001b[39;00m:\n\u001b[1;32m    878\u001b[0m         \u001b[39mif\u001b[39;00m (\u001b[39mself\u001b[39m\u001b[39m.\u001b[39mcmd_tree \u001b[39mis\u001b[39;00m \u001b[39mnot\u001b[39;00m \u001b[39mNone\u001b[39;00m \u001b[39mand\u001b[39;00m\n\u001b[1;32m    879\u001b[0m             \u001b[39mself\u001b[39m\u001b[39m.\u001b[39mcmd_tree\u001b[39m.\u001b[39mbody \u001b[39mis\u001b[39;00m \u001b[39mnot\u001b[39;00m \u001b[39mNone\u001b[39;00m):\n",
      "File \u001b[0;32m~/opt/anaconda3/envs/project1-grading/lib/python3.9/site-packages/tdmclient/repl.py:636\u001b[0m, in \u001b[0;36mTDMConsole.send_variables\u001b[0;34m(self, names_py, node_flush)\u001b[0m\n\u001b[1;32m    634\u001b[0m \u001b[39mif\u001b[39;00m \u001b[39mlen\u001b[39m(names_py) \u001b[39m>\u001b[39m \u001b[39m0\u001b[39m:\n\u001b[1;32m    635\u001b[0m     \u001b[39mfor\u001b[39;00m name_py \u001b[39min\u001b[39;00m names_py:\n\u001b[0;32m--> 636\u001b[0m         \u001b[39mself\u001b[39;49m\u001b[39m.\u001b[39;49msend_variable(name_py, \u001b[39mself\u001b[39;49m\u001b[39m.\u001b[39;49mlocal_var[name_py])\n\u001b[1;32m    637\u001b[0m     \u001b[39mif\u001b[39;00m node_flush:\n\u001b[1;32m    638\u001b[0m         \u001b[39mself\u001b[39m\u001b[39m.\u001b[39mflush_variables()\n",
      "File \u001b[0;32m~/opt/anaconda3/envs/project1-grading/lib/python3.9/site-packages/tdmclient/repl.py:628\u001b[0m, in \u001b[0;36mTDMConsole.send_variable\u001b[0;34m(self, name_py, value)\u001b[0m\n\u001b[1;32m    626\u001b[0m name_a \u001b[39m=\u001b[39m \u001b[39mself\u001b[39m\u001b[39m.\u001b[39mfrom_python_name(name_py)\n\u001b[1;32m    627\u001b[0m \u001b[39mself\u001b[39m\u001b[39m.\u001b[39mrobot_var_set\u001b[39m.\u001b[39madd(name_a)\n\u001b[0;32m--> 628\u001b[0m \u001b[39mself\u001b[39m\u001b[39m.\u001b[39mnode[name_a] \u001b[39m=\u001b[39m value\n",
      "File \u001b[0;32m~/opt/anaconda3/envs/project1-grading/lib/python3.9/site-packages/tdmclient/clientasynccachenode.py:96\u001b[0m, in \u001b[0;36mClientAsyncCacheNode.__setitem__\u001b[0;34m(self, key, value)\u001b[0m\n\u001b[1;32m     93\u001b[0m \u001b[39melse\u001b[39;00m:\n\u001b[1;32m     94\u001b[0m     \u001b[39m# list\u001b[39;00m\n\u001b[1;32m     95\u001b[0m     \u001b[39mif\u001b[39;00m var_len \u001b[39m!=\u001b[39m \u001b[39mlen\u001b[39m(value):\n\u001b[0;32m---> 96\u001b[0m         \u001b[39mraise\u001b[39;00m TDMIncompatibleVarSizeError(key, var_len, \u001b[39m1\u001b[39m)\n\u001b[1;32m     97\u001b[0m     \u001b[39mself\u001b[39m\u001b[39m.\u001b[39mvar[key] \u001b[39m=\u001b[39m value\n\u001b[1;32m     98\u001b[0m \u001b[39mself\u001b[39m\u001b[39m.\u001b[39mmark_change(key)\n",
      "\u001b[0;31mTDMIncompatibleVarSizeError\u001b[0m: Incompatible size (assignment of a list of size 1 to timer.period[2])"
     ]
    }
   ],
   "source": [
    "# Initialisation variable\n",
    "conversion = 1\n",
    "conversion_pixel_mm = 10\n",
    "integral = 0.0\n",
    "previous_error = 0.0\n",
    "decalage = 0\n",
    "timer_period = [100]\n",
    "\n",
    "#Initialisation valeur non importante dans le programme final\n",
    "l_speed = 50\n",
    "r_speed = 50\n",
    "\n",
    "motor_left_target  = 0\n",
    "motor_right_target = 0\n",
    "\n",
    "# initialisation du filtre\n",
    "ekf = EKF(1, initial_pos, initial_speed)\n",
    "\n",
    "def calculate_directional_angle_2D(point1, point2, point3):\n",
    "    vector1 = np.array(point1) - np.array(point2)\n",
    "    vector3 = np.array(point3) - np.array(point2)\n",
    "\n",
    "    # Calculate angles in radians\n",
    "    angle1 = np.arctan2(vector1[1], vector1[0])\n",
    "    angle3 = np.arctan2(vector3[1], vector3[0])\n",
    "\n",
    "    # Calculate directional angle\n",
    "    directional_angle = angle3 - angle1\n",
    "\n",
    "    # Adjust the angle to be between -pi and pi\n",
    "    directional_angle = (directional_angle + np.pi) % (2 * np.pi) - np.pi\n",
    "\n",
    "    return directional_angle\n",
    "\n",
    "# Changer les valeurs global,vitesse motteur,\n",
    "def Reglage():\n",
    "    global l_speed, r_speed, integral, previous_error,conversion,x_f,y_f,x_d,y_d,x_t,y_t\n",
    "\n",
    "    # Déclaration des constantes PID\n",
    "    kp = 1.0  # Terme proportionnel\n",
    "    ki = 0.1  # Terme intégral\n",
    "    kd = 0.01  # Terme dérivé\n",
    "    tolerance = 0.01  # tolerance\n",
    "    \n",
    "    # Calculate the hypotenuse of the vector (point2 - point3)\n",
    "    Hypothenus = np.linalg.norm(np.array([x_d,y_d]) - np.array([x_t,y_t]))\n",
    "\n",
    "    # Calculate the directional angle between point1, point2, and point3\n",
    "    Angle = calculate_directional_angle_2D([x_f,y_f],[x_d,y_d],[x_t,y_t])\n",
    "\n",
    "    # Calculate decalage using sin(Angle) * Hypotenuse\n",
    "    decalage = np.sin(Angle) * Hypothenus  \n",
    "\n",
    "    if abs(decalage) > tolerance:\n",
    "        # Calcul des termes PID\n",
    "        P = kp * decalage\n",
    "        I = ki * integral\n",
    "        D = kd * (decalage - previous_error)\n",
    "\n",
    "        # Calcul de la commande finale\n",
    "        output = P + I + D\n",
    "        \n",
    "        l_speed = 600+(output * conversion)  # Assuming conversion is defined\n",
    "        r_speed = 600-(output*conversion)\n",
    "       \n",
    "        # Mettre à jour les variables pour la prochaine itération\n",
    "        previous_error = decalage\n",
    "        integral += decalage\n",
    "\n",
    "\n",
    "#Boucle principal \n",
    "\n",
    "@onevent\n",
    "def timer0():\n",
    "    global motor_left_target, motor_right_target, l_speed, r_speed\n",
    "    # call the filter to find position  \n",
    "    x_t,y_t,_=ekf.filter(measurements[0], us[0])\n",
    "    Reglage()\n",
    "    # Set motor powers\n",
    "    motor_left_target = round(l_speed) \n",
    "    motor_right_target = round(r_speed) \n",
    "        \n"
   ]
  },
  {
   "cell_type": "code",
   "execution_count": 16,
   "id": "beb161ff",
   "metadata": {
    "scrolled": true
   },
   "outputs": [
    {
     "name": "stdout",
     "output_type": "stream",
     "text": [
      "State Estimate Before EKF=[ 2.355 -0.079 -0.028]\n",
      "Observation=[1 0 0]\n",
      "State Estimate After EKF=[ 1.477 -0.074 -0.035]\n"
     ]
    },
    {
     "data": {
      "text/plain": [
       "-0.0735994088756344"
      ]
     },
     "execution_count": 16,
     "metadata": {},
     "output_type": "execute_result"
    }
   ],
   "source": [
    "x,y,teta=ekf.filter(measurements[0], us[0])\n",
    "y"
   ]
  },
  {
   "cell_type": "code",
   "execution_count": 5,
   "id": "9754342f",
   "metadata": {},
   "outputs": [
    {
     "name": "stdout",
     "output_type": "stream",
     "text": [
      "State Estimate Before EKF=[-0.20992708  0.32719976 34.53294203]\n",
      "Observation=[1 0 0]\n",
      "State Estimate After EKF=[ 0.4942384   0.08183813 13.17624931]\n"
     ]
    }
   ],
   "source": [
    "ekf.filter(measurements[0], us[0])"
   ]
  },
  {
   "cell_type": "code",
   "execution_count": null,
   "id": "6bbeb54d",
   "metadata": {},
   "outputs": [],
   "source": []
  }
 ],
 "metadata": {
  "kernelspec": {
   "display_name": "Python 3 (ipykernel)",
   "language": "python",
   "name": "python3"
  },
  "language_info": {
   "codemirror_mode": {
    "name": "ipython",
    "version": 3
   },
   "file_extension": ".py",
   "mimetype": "text/x-python",
   "name": "python",
   "nbconvert_exporter": "python",
   "pygments_lexer": "ipython3",
   "version": "3.9.18"
  }
 },
 "nbformat": 4,
 "nbformat_minor": 5
}
