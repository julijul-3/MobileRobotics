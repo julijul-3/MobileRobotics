{
 "cells": [
  {
   "cell_type": "code",
   "execution_count": 3,
   "id": "588de53a",
   "metadata": {},
   "outputs": [
    {
     "name": "stdout",
     "output_type": "stream",
     "text": [
      "Requirement already satisfied: tdmclient in /Users/charles-antoinedefournas/opt/miniconda3/lib/python3.9/site-packages (0.1.21)\n",
      "Requirement already satisfied: websockets in /Users/charles-antoinedefournas/opt/miniconda3/lib/python3.9/site-packages (from tdmclient) (11.0.3)\n",
      "Requirement already satisfied: zeroconf in /Users/charles-antoinedefournas/opt/miniconda3/lib/python3.9/site-packages (from tdmclient) (0.115.0)\n",
      "Requirement already satisfied: ifaddr>=0.1.7 in /Users/charles-antoinedefournas/opt/miniconda3/lib/python3.9/site-packages (from zeroconf->tdmclient) (0.2.0)\n",
      "Requirement already satisfied: async-timeout>=3.0.0 in /Users/charles-antoinedefournas/opt/miniconda3/lib/python3.9/site-packages (from zeroconf->tdmclient) (4.0.3)\n"
     ]
    }
   ],
   "source": [
    "!pip install --upgrade tdmclient\n",
    "\n",
    "import tdmclient.notebook\n",
    "await tdmclient.notebook.start()"
   ]
  },
  {
   "cell_type": "code",
   "execution_count": 4,
   "id": "5ae87534",
   "metadata": {},
   "outputs": [],
   "source": [
    "from scipy.integrate import odeint\n",
    "import numpy as np\n",
    "import matplotlib.pyplot as plt\n"
   ]
  },
  {
   "cell_type": "code",
   "execution_count": null,
   "id": "9ff629e1",
   "metadata": {},
   "outputs": [],
   "source": []
  },
  {
   "cell_type": "code",
   "execution_count": 5,
   "id": "0026e00b",
   "metadata": {},
   "outputs": [],
   "source": [
    "async def move_robot_rect(client):\n",
    "    global x_a,y_a,teta_a,x_t,y_t,teta_t, motor_left_target, motor_right_target,distance\n",
    "    distance = calculate_distance(x_a, y_a, x_t, y_t)\n",
    "    time_distance = distance*4.5\n",
    "    v = {\n",
    "            \"motor.left.target\": [int(100)],\n",
    "            \"motor.right.target\": [int(100)],\n",
    "    }\n",
    "    await node.set_variables(v)\n",
    "    await asyncio.sleep(time_distance)\n",
    "    v_stop = {\n",
    "            \"motor.left.target\": [int(0)],\n",
    "            \"motor.right.target\": [int(0)],\n",
    "        }\n",
    "    await node.set_variables(v_stop)"
   ]
  },
  {
   "cell_type": "code",
   "execution_count": null,
   "id": "14c0b6f0",
   "metadata": {},
   "outputs": [],
   "source": [
    "async def rotate_robot_angle(client,teta):\n",
    "    global x_a,y_a,teta_a,x_t,y_t, motor_left_target, motor_right_target,angle,move_list,count\n",
    "    #I substract the angle to obtain the new correction\n",
    "    angle = calculate_angle_degrees(x_a, y_a, x_t, y_t)-teta\n",
    "    print('count =', count)\n",
    "    \n",
    "    if move_list[count] == angle :\n",
    "        angle = 0\n",
    "    else :\n",
    "        move_list[count+1] = angle\n",
    "        angle = angle - move_list[count]\n",
    "        count = count+1\n",
    "    print(move_list)\n",
    "    \n",
    "    if angle < 0 :\n",
    "        angle = -angle\n",
    "        time_rotation = (4.95 * angle) / 180\n",
    "        v = {\n",
    "            \"motor.left.target\": [int(100)],\n",
    "            \"motor.right.target\": [int(-100)],\n",
    "    }\n",
    "        await node.set_variables(v)\n",
    "        await asyncio.sleep(time_rotation)\n",
    "    else:\n",
    "        time_rotation = (4.95 * angle) / 180\n",
    "        if time_rotation == 0 :\n",
    "            v_reverse = {\n",
    "            \"motor.left.target\": [int(100)],\n",
    "            \"motor.right.target\": [int(100)],\n",
    "        }\n",
    "        else :\n",
    "            v_reverse = {\n",
    "                \"motor.left.target\": [int(-100)],\n",
    "                \"motor.right.target\": [int(100)],\n",
    "            }\n",
    "        await node.set_variables(v_reverse)\n",
    "        await asyncio.sleep(time_rotation)\n",
    "    v_stop = {\n",
    "            \"motor.left.target\": [int(0)],\n",
    "            \"motor.right.target\": [int(0)],\n",
    "        }\n",
    "    await node.set_variables(v_stop)\n",
    "   "
   ]
  },
  {
   "cell_type": "code",
   "execution_count": 7,
   "id": "a3122c9a",
   "metadata": {},
   "outputs": [],
   "source": [
    "def calculate_angle_degrees(x1, y1, x2, y2):\n",
    "    \"\"\"\n",
    "    Calculate the angle in degrees between two points (x1, y1) and (x2, y2).\n",
    "    \"\"\"\n",
    "    delta_x = x2 - x1\n",
    "    delta_y = y2 - y1\n",
    "    angle_rad = math.atan2(delta_y, delta_x)\n",
    "    \n",
    "    # Convert angle to degrees\n",
    "    angle_degrees = math.degrees(angle_rad)\n",
    "    \n",
    "    # Convert angle to be in the range [0, 360)\n",
    "    angle_degrees = angle_degrees % 360\n",
    "    print(angle_degrees)\n",
    "    return angle_degrees\n",
    "\n",
    "def calculate_distance(x1, y1, x2, y2):\n",
    "    \"\"\"\n",
    "    Calculate the Euclidean distance between two points (x1, y1) and (x2, y2).\n",
    "    \"\"\"\n",
    "    distance = math.sqrt((x2 - x1)**2 + (y2 - y1)**2)\n",
    "    return distance"
   ]
  },
  {
   "cell_type": "code",
   "execution_count": 11,
   "id": "0903943e",
   "metadata": {},
   "outputs": [],
   "source": [
    "def correction():\n",
    "    global x_a,y_a,teta_a,x_t,y_t,teta_t\n",
    "    v = {\n",
    "            \"motor.left.target\": [int(0)],\n",
    "            \"motor.right.target\": [int(-0)],\n",
    "    }\n",
    "    #We need to go from actuel position to theorical position\n",
    "    rotate_robot_angle(client,teta_a)\n",
    "    move_robot_rect(client)\n",
    "    rotate_robot_angle(client,teta_t)\n",
    "    \n",
    "    \n",
    "    \n",
    "    \n",
    "    \n",
    "    \n",
    "    \n",
    "    \n",
    "    \n",
    "    "
   ]
  },
  {
   "cell_type": "code",
   "execution_count": null,
   "id": "8558d123",
   "metadata": {},
   "outputs": [],
   "source": []
  },
  {
   "cell_type": "code",
   "execution_count": null,
   "id": "f4816cb8",
   "metadata": {},
   "outputs": [],
   "source": []
  },
  {
   "cell_type": "code",
   "execution_count": null,
   "id": "bfaacfbb",
   "metadata": {},
   "outputs": [],
   "source": []
  },
  {
   "cell_type": "code",
   "execution_count": null,
   "id": "1d8a9560",
   "metadata": {},
   "outputs": [],
   "source": []
  }
 ],
 "metadata": {
  "kernelspec": {
   "display_name": "Python 3 (ipykernel)",
   "language": "python",
   "name": "python3"
  },
  "language_info": {
   "codemirror_mode": {
    "name": "ipython",
    "version": 3
   },
   "file_extension": ".py",
   "mimetype": "text/x-python",
   "name": "python",
   "nbconvert_exporter": "python",
   "pygments_lexer": "ipython3",
   "version": "3.9.16"
  }
 },
 "nbformat": 4,
 "nbformat_minor": 5
}
